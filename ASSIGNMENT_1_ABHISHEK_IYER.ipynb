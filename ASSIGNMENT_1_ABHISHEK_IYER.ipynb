{
 "cells": [
  {
   "cell_type": "markdown",
   "metadata": {},
   "source": [
    "# Assignment 1: Calculation, Strings, Boolean Expressions and Conditions\n",
    "\n",
    "**Deadline: Friday, September 9, 2022 before 5pm (submit via Canvas: Assignment 1)** \n",
    "\n",
    "\n",
    "This assignment is **not graded**, but it is mandatory to submit a version that shows you have given it a serious try. We will check your assignments to monitor the progress and get an impression of how the course is going so far. You will receive feedback and solutions in the first class after the deadline. **Please note that the material taught in this block is essential for all subsequent blocks.** \n",
    "\n",
    "- Please name your notebook with the following naming convention: ASSIGNMENT_1_FIRSTNAME_LASTNAME.ipynb\n",
    "- If you have **questions** about this topic, please contact **cltl.python.course@gmail.com**.\n",
    "\n",
    "\n",
    "In this block, we covered the following chapters:\n",
    "\n",
    "- Chapter 1 - Getting Started with Variables and Values\n",
    "- Chapter 2 - Basic Data Types (Integers and Floats)\n",
    "- Chapter 3 - Strings\n",
    "- Chapter 4 - Boolean Expressions and Conditions\n",
    "\n",
    "In this assignment, you will be asked to show what you have learned from the topics above! \n",
    "\n",
    "**Looking things up**\n",
    "\n",
    "Don't worry - you do not have to know things by heart yet - feel free to have all Chapters of block 1 open while you work on this. This also goes for all future assignments. \n",
    "\n",
    "**Finding solutions online**\n",
    "\n",
    "Very often, you can find good solutions online. We encourage you to use online resources when you get stuck. However, please always try to understand the code you find and indicate that it is not your own. Use the following format to mark code written by someone else:\n",
    "\n",
    "###Taken from [link] [date]\n",
    "\n",
    "[code]\n",
    "\n",
    "\\###\n",
    "\n",
    "Please use a similar format to indicate that you have worked with a classmate (e.g. mention the name instead of the link). \n",
    "\n",
    "*Indicating online resources and collaboration is mandatory! Please stick to this strategy for all course assignments.*\n",
    "\n",
    "**Being stuck and getting help**\n",
    "\n",
    "It is very normal to get stuck every now and then. Sometimes you find what is wrong within minutes, sometimes this takes longer. If you get stuck, please apply the strategies described in the readme. If none of them work, please contact us (cltl.python.course@gmail.com). "
   ]
  },
  {
   "cell_type": "markdown",
   "metadata": {},
   "source": [
    "## Exercise 1: Calculation\n"
   ]
  },
  {
   "cell_type": "markdown",
   "metadata": {},
   "source": [
    "#### 1a. Average \n",
    "Define three variables `var1`, `var2` and `var3`. Calculate the average of these variables and assign it to the variable `average`. Print the outcome of your program as follows (use casting or an f-string):\n",
    "\n",
    "`The average of [...], [...] and [...] is: [...]`"
   ]
  },
  {
   "cell_type": "code",
   "execution_count": 3,
   "metadata": {},
   "outputs": [
    {
     "name": "stdout",
     "output_type": "stream",
     "text": [
      "The average of 10,15 and17 is: 14.0\n"
     ]
    }
   ],
   "source": [
    "# average code\n",
    "var1 = 10\n",
    "var2 = 15\n",
    "var3 = 17\n",
    "\n",
    "average = (var1+var2+var3)/3\n",
    "\n",
    "print(f\"The average of {var1},{var2} and {var3} is: {average}\")"
   ]
  },
  {
   "cell_type": "markdown",
   "metadata": {},
   "source": [
    "#### 1b. Book prices\n",
    "\n",
    "\n",
    "Calculate book prices for the following scenarios:\n",
    "\n",
    "Suppose the price of a book is 24.95 EUR, but if the book is bought by a bookstore, they get a 30 percent discount (as opposed to customers buying from an online stores). Shipping costs 3 EUR for the first copy and 75 cents for each additional copy. Shipping costs always apply (the books also have to be shipped to the bookstore). \n",
    "\n",
    "Write a program that can calculate the total costs for any number of copies for both bookstores and other customers. Use variables with clear names for your calculations and print the result using a full sentence.\n",
    "\n",
    "The program should use variables which indicate whether the customer is a bookstore or not and how many books are bought. You can simply assign values to the variables in you code or use the input function (both is accepted).\n",
    "\n",
    "\n",
    "**Tip**\n",
    "\n",
    "Start small and add things in steps. For instance, start by calculating the price minus the discount. Then add the additional steps. Also, it helps to a start by simply assuming a specific number of books (start with 1 and make sure it works with any other number). Do not forget to test your program! "
   ]
  },
  {
   "cell_type": "code",
   "execution_count": 6,
   "metadata": {},
   "outputs": [
    {
     "name": "stdout",
     "output_type": "stream",
     "text": [
      "Total Cost if bookstore is the customer, is : 184.75 \n",
      "Total Cost if normal customer is the customer, is : 259.75 \n"
     ]
    }
   ],
   "source": [
    "# complete the code below\n",
    "\n",
    "n_books = 10\n",
    "price_one_copy = 25\n",
    "price = price_one_copy*n_books\n",
    "discounted_bookstore_price = price-((30/100)*price) \n",
    "shipping_cost = 3 + (0.75*(n_books-1))\n",
    "cost_for_bookstore = discounted_bookstore_price + shipping_cost\n",
    "print(f\"Total Cost if bookstore is the customer, is : {cost_for_bookstore} \")\n",
    "cost_for_customer = price + shipping_cost\n",
    "print(f\"Total Cost if normal customer is the customer, is : {cost_for_customer} \")\n",
    "# you bookprice calculations here"
   ]
  },
  {
   "cell_type": "markdown",
   "metadata": {},
   "source": [
    "#### 1c. The modulus operator \n",
    "\n",
    "There is one operator (like the ones for multiplication and subtraction) that we did not discuss yet, namely the modulus operator %. Could you figure out by yourself what it does when you place it between two numbers (e.g. 113 % 9)? (PS: Try to figure it out by yourself first, by trying multiple combinations of numbers. If you do not manage, it's OK to use online resources...) \n",
    "\n",
    "You don't need this operator all that often, but when you do, it comes in really handy! Also, it is important to learn how to figure out what operators/methods/functions you have never seen before do by playing with code, googling or reading documentation. \n"
   ]
  },
  {
   "cell_type": "code",
   "execution_count": 4,
   "metadata": {},
   "outputs": [
    {
     "name": "stdout",
     "output_type": "stream",
     "text": [
      "10 mod 2 results in 0\n"
     ]
    }
   ],
   "source": [
    "# try out the modulus operator!\n",
    "x=10\n",
    "y=2\n",
    "z=x%y\n",
    "print(f\"{x} mod {y} results in {z}\")\n",
    "\n",
    "#the result of using the modulus operator is the remainder after dividing the two integers.\n"
   ]
  },
  {
   "cell_type": "markdown",
   "metadata": {},
   "source": [
    "**Help the cashier**\n",
    "\n",
    "Can you use the modulus operator you just learned about to solve the following task? Imagine you want to help cashiers to return the change in a convenient way. This means you do not want to return hands full of small coins, but rather use bills and as few coins as possible. \n",
    "\n",
    "Write code  that classifies a given amount of money into smaller monetary units. Given a specific amout of dollars, your program should report the maximum number of dollar bills,  quarters, dimes, nickels, and pennies. \n",
    "\n",
    "Set the amount variable to 11.67. You code should output a report listing the monetary equivalent in dollars, quarters, dimes, nickels, and pennies (one quarter is equivalent to 25 cents; one dime to 10 cents; one nickle to 5 cents and a pennie to 1 cent). Your program should report the maximum number of dollars, then the number of quarters, dimes, nickels, and pennies, in this order, to result in the minimum number of coins. Here are the steps in developing the program:\n",
    "\n",
    "1. Convert the amount (11.67) into cents (1167).\n",
    "2. First get the amount of cents that you would get after subtracting the maximum amount of dollars (100 cents) using the modulus operator (67 cents).\n",
    "3. Then subtract the remainder (67 cents) from the total amount of cents (1167 cents) and divide this by 100 to find the number of dollars.\n",
    "4. Use the modulus operator again to find out the remainder after subtracting the maximum amount of quarters (17 cents).\n",
    "5. Subtract this remainder (17 cents) from the previous remainder (67 cents) and divide this by 25 to find out the number of quarters.\n",
    "6. Follow the same steps for the dimes, nickels and pennies.\n",
    "7. Display the result for your cashier! (the amount of dollars, quarters, dimes, nickels and pennies that (s)he would have to give back)`"
   ]
  },
  {
   "cell_type": "code",
   "execution_count": 11,
   "metadata": {},
   "outputs": [
    {
     "name": "stdout",
     "output_type": "stream",
     "text": [
      "Total amount 11.67 is 1167.0 cents\n",
      "Total dollars 11.0, quarters 2.0, dimes 1.0, nickles 1.0, pennies 2.0\n"
     ]
    }
   ],
   "source": [
    "# cashier code\n",
    "amount = 11.67\n",
    "cents = amount*100\n",
    "print(f\"Total amount {amount} is {cents} cents\")\n",
    "remainder_cents = cents%100\n",
    "dollars = (cents-remainder_cents)/100\n",
    "remainder_quarters = remainder_cents%25\n",
    "quarters = (remainder_cents - remainder_quarters)/25\n",
    "remainder_dimes = remainder_quarters%10\n",
    "dimes = (remainder_quarters - remainder_dimes)/10\n",
    "remainder_nickles = remainder_dimes%5\n",
    "nickles = (remainder_dimes-remainder_nickles)/5\n",
    "pennies = reaminder_nickles\n",
    "print(f\"Total dollars {dollars}, quarters {quarters}, dimes {dimes}, nickles {nickles}, pennies {pennies}\")"
   ]
  },
  {
   "cell_type": "markdown",
   "metadata": {},
   "source": [
    "## Exercise 2: Printing and user input\n"
   ]
  },
  {
   "cell_type": "markdown",
   "metadata": {},
   "source": [
    "#### 2a. Difference between \",\" and \"+\"\n",
    "\n",
    "What is the difference between using **+** and **,** in a print statement? Illustrate by using both in each of the following:\n",
    "\n",
    "* calling the `print()` fuction with multiple strings\n",
    "* printing combinations of strings and integers\n",
    "* concatenating multiple strings and assign to one single variable\n",
    "* concatenating strings and integers and assign to one single variable"
   ]
  },
  {
   "cell_type": "code",
   "execution_count": 13,
   "metadata": {},
   "outputs": [
    {
     "name": "stdout",
     "output_type": "stream",
     "text": [
      "hi\n",
      "h i\n"
     ]
    }
   ],
   "source": [
    "str1=\"h\"\n",
    "str2=\"i\"\n",
    "print(str1+str2)\n",
    "print(str1,str2)"
   ]
  },
  {
   "cell_type": "code",
   "execution_count": 21,
   "metadata": {},
   "outputs": [
    {
     "name": "stdout",
     "output_type": "stream",
     "text": [
      "h 1\n",
      "h1\n"
     ]
    }
   ],
   "source": [
    "str1=\"h\"\n",
    "x=1\n",
    "print(str1,x)\n",
    "print(str1+str(x))"
   ]
  },
  {
   "cell_type": "code",
   "execution_count": 25,
   "metadata": {},
   "outputs": [
    {
     "name": "stdout",
     "output_type": "stream",
     "text": [
      "hi\n",
      "('h', 'i')\n"
     ]
    }
   ],
   "source": [
    "str1=\"h\"\n",
    "str2=\"i\"\n",
    "str3=str1+str2\n",
    "str4=str1,str2\n",
    "print(str3)\n",
    "print(str4)"
   ]
  },
  {
   "cell_type": "code",
   "execution_count": 22,
   "metadata": {},
   "outputs": [
    {
     "name": "stdout",
     "output_type": "stream",
     "text": [
      "h1\n",
      "('h', 1)\n"
     ]
    }
   ],
   "source": [
    "str1=\"h\"\n",
    "x=1\n",
    "str2=str1+str(x)\n",
    "str3=str1,x\n",
    "print(str2)\n",
    "print(str3)\n"
   ]
  },
  {
   "cell_type": "markdown",
   "metadata": {},
   "source": [
    "####  2b. Small Talk\n",
    "Write a program to have a little conversation with someone. First ask them for their name and their age, and then say something about your own age compared to theirs. Your code should result in a conversation following this example:\n",
    "\n",
    "> `Hello there! What is your name?`\n",
    "\n",
    "> -- Emily.\n",
    "\n",
    "> `Nice to meet you, Emily. How old are you?`\n",
    "\n",
    "> -- 23\n",
    "\n",
    "> `I'm 25 years old, so I'm 2 years older than you.`\n",
    "\n",
    "Also account for situations where the other person is older or the same age. You will need to use `if-else`-statements!"
   ]
  },
  {
   "cell_type": "code",
   "execution_count": 20,
   "metadata": {},
   "outputs": [
    {
     "name": "stdout",
     "output_type": "stream",
     "text": [
      "Hello there! What is your name? Jon\n",
      "Nice to meet you, Jon, my name is Abhi. How old are you? 23\n",
      "I'm 26 years old, so I'm 3 years older than you.\n"
     ]
    }
   ],
   "source": [
    "name = input(\"Hello there! What is your name? \")\n",
    "my_name = \"Abhi\"\n",
    "age = input(f\"Nice to meet you, {name}, my name is {my_name}. How old are you? \")\n",
    "my_age = \"26\"\n",
    "print(f\"I'm {my_age} years old, so I'm 3 years older than you.\")\n",
    "# finish this code"
   ]
  },
  {
   "cell_type": "markdown",
   "metadata": {},
   "source": [
    "## Exercise 3: String Art"
   ]
  },
  {
   "cell_type": "markdown",
   "metadata": {},
   "source": [
    "#### 3a. Drawing figures\n",
    "We start with some repetition of the theory about strings:"
   ]
  },
  {
   "cell_type": "markdown",
   "metadata": {},
   "source": [
    "| Topic | Explanation |\n",
    "|-----------|--------|\n",
    "| `quotes` |\tA string is delimited by single quotes ('...') or double quotes (\"...\") |\n",
    "| `special characters` |\tCertain special characters can be used, such as \"\\n\" (for newline) and \"\\t\" (for a tab) \t|  \t \n",
    "| `printing special characters` |\tTo print the special characters, they must be preceded by a backslash (\\\\)\t |\n",
    "| `continue on next line` |\tA backslash (\\\\) at the end of a line is used to continue a string on the next line\t  \t |\n",
    "| `multi-line strings` |\tA multi-line print statement should be enclosed by three double or three single quotes (\"\"\"...\"\"\" of '''...''')\t | "
   ]
  },
  {
   "cell_type": "markdown",
   "metadata": {},
   "source": [
    "Please run the code snippet below and observe what happens:"
   ]
  },
  {
   "cell_type": "code",
   "execution_count": 26,
   "metadata": {},
   "outputs": [
    {
     "name": "stdout",
     "output_type": "stream",
     "text": [
      "hello\n",
      "\n",
      "To print a newline use \\n\n",
      "She said: 'hello'\n",
      "\tThis is indented\n",
      "This is a very, very, very, very, very, very long print statement\n",
      "\n",
      "This is a multi-line print statement\n",
      "First line\n",
      "Second line\n",
      "\n"
     ]
    }
   ],
   "source": [
    "print('hello\\n')\n",
    "print('To print a newline use \\\\n')\n",
    "print('She said: \\'hello\\'')\n",
    "print('\\tThis is indented')\n",
    "print('This is a very, very, very, very, very, very \\\n",
    "long print statement')\n",
    "print('''\n",
    "This is a multi-line print statement\n",
    "First line\n",
    "Second line\n",
    "''')"
   ]
  },
  {
   "cell_type": "markdown",
   "metadata": {},
   "source": [
    "Now write a Python script that prints the following figure using **only one line of code**! (so don't use triple quotes)\n",
    "\n",
    "        | | |\n",
    "         @ @\n",
    "          u\n",
    "        |\"\"\"|\n"
   ]
  },
  {
   "cell_type": "code",
   "execution_count": 31,
   "metadata": {},
   "outputs": [
    {
     "name": "stdout",
     "output_type": "stream",
     "text": [
      "\t| | |\n",
      "\t @ @ \n",
      "\t  u  \n",
      "\t|\"\"\"|\t\n"
     ]
    }
   ],
   "source": [
    "# your code here\n",
    "print('\\t| | |\\n\\t @ @ \\n\\t  u  \\n\\t|\"\"\"|\\t')"
   ]
  },
  {
   "cell_type": "markdown",
   "metadata": {},
   "source": [
    "#### 3b. Colors\n",
    "We start again with some repetition of the theory:"
   ]
  },
  {
   "cell_type": "markdown",
   "metadata": {},
   "source": [
    "| Topic | Explanation |\n",
    "|-----------|--------|\n",
    "| a = b + c\t| if b and c are strings: concatenate b and c to form a new string a| \n",
    "| a = b * c\t| if b is an integer and c is a string: c is repeated b times to form a new string a |\n",
    "| a[0] |\t the first character of string a  |\n",
    "| len(a) |\t the number of characters in string a |\n",
    "| min(a) |\t the smallest element in string a (alphabetically first) |\n",
    "| max(a) |\t the largest element in string a (alphabetically last) |"
   ]
  },
  {
   "cell_type": "markdown",
   "metadata": {},
   "source": [
    "Please run the code snippet below and observe what happens:"
   ]
  },
  {
   "cell_type": "code",
   "execution_count": 32,
   "metadata": {},
   "outputs": [
    {
     "name": "stdout",
     "output_type": "stream",
     "text": [
      "the cat is on the mat\n",
      "thethethethethe\n",
      "The first character of cat is c\n",
      "The word c has, 3 characters\n"
     ]
    }
   ],
   "source": [
    "b = 'the'\n",
    "c = 'cat'\n",
    "d = ' is on the mat'\n",
    "a = b + ' ' + c + d\n",
    "print(a)\n",
    "a = b * 5\n",
    "print(a)\n",
    "print('The first character of', c, 'is' , c[0])\n",
    "print('The word c has,', len(c) ,'characters')"
   ]
  },
  {
   "cell_type": "markdown",
   "metadata": {},
   "source": [
    "Now write a program that asks users for their favorite color. Create the following output (assuming \"red\" is the chosen color). Use \"+\" and \"\\*\".\n",
    "It should work with any color name though.\n",
    "\n",
    "```xml\n",
    "red red red red red red red red red red  \n",
    "red                                 red\n",
    "red                                 red\n",
    "red red red red red red red red red red\n",
    "```"
   ]
  },
  {
   "cell_type": "code",
   "execution_count": 54,
   "metadata": {},
   "outputs": [
    {
     "name": "stdout",
     "output_type": "stream",
     "text": [
      "what is your favorite color? red\n",
      "red red red red red red red red red red \n",
      "red                                 red\n",
      "red                                 red\n",
      "red red red red red red red red red red \n"
     ]
    }
   ],
   "source": [
    "color = input('what is your favorite color? ')\n",
    "l_sp = color+' '\n",
    "sp=' '\n",
    "length = l_sp * 10\n",
    "height = color+(sp*33)+color\n",
    "print(length)\n",
    "print(height)\n",
    "print(height)\n",
    "print(length)"
   ]
  },
  {
   "cell_type": "markdown",
   "metadata": {},
   "source": [
    "## Exercise 4: String methods \n",
    "\n",
    "Remember that you can see all methods of the class `str` by using `dir()`. You can ignore all methods that start with one or two underscores. "
   ]
  },
  {
   "cell_type": "code",
   "execution_count": 33,
   "metadata": {},
   "outputs": [
    {
     "data": {
      "text/plain": [
       "['__add__',\n",
       " '__class__',\n",
       " '__contains__',\n",
       " '__delattr__',\n",
       " '__dir__',\n",
       " '__doc__',\n",
       " '__eq__',\n",
       " '__format__',\n",
       " '__ge__',\n",
       " '__getattribute__',\n",
       " '__getitem__',\n",
       " '__getnewargs__',\n",
       " '__gt__',\n",
       " '__hash__',\n",
       " '__init__',\n",
       " '__init_subclass__',\n",
       " '__iter__',\n",
       " '__le__',\n",
       " '__len__',\n",
       " '__lt__',\n",
       " '__mod__',\n",
       " '__mul__',\n",
       " '__ne__',\n",
       " '__new__',\n",
       " '__reduce__',\n",
       " '__reduce_ex__',\n",
       " '__repr__',\n",
       " '__rmod__',\n",
       " '__rmul__',\n",
       " '__setattr__',\n",
       " '__sizeof__',\n",
       " '__str__',\n",
       " '__subclasshook__',\n",
       " 'capitalize',\n",
       " 'casefold',\n",
       " 'center',\n",
       " 'count',\n",
       " 'encode',\n",
       " 'endswith',\n",
       " 'expandtabs',\n",
       " 'find',\n",
       " 'format',\n",
       " 'format_map',\n",
       " 'index',\n",
       " 'isalnum',\n",
       " 'isalpha',\n",
       " 'isascii',\n",
       " 'isdecimal',\n",
       " 'isdigit',\n",
       " 'isidentifier',\n",
       " 'islower',\n",
       " 'isnumeric',\n",
       " 'isprintable',\n",
       " 'isspace',\n",
       " 'istitle',\n",
       " 'isupper',\n",
       " 'join',\n",
       " 'ljust',\n",
       " 'lower',\n",
       " 'lstrip',\n",
       " 'maketrans',\n",
       " 'partition',\n",
       " 'removeprefix',\n",
       " 'removesuffix',\n",
       " 'replace',\n",
       " 'rfind',\n",
       " 'rindex',\n",
       " 'rjust',\n",
       " 'rpartition',\n",
       " 'rsplit',\n",
       " 'rstrip',\n",
       " 'split',\n",
       " 'splitlines',\n",
       " 'startswith',\n",
       " 'strip',\n",
       " 'swapcase',\n",
       " 'title',\n",
       " 'translate',\n",
       " 'upper',\n",
       " 'zfill']"
      ]
     },
     "execution_count": 33,
     "metadata": {},
     "output_type": "execute_result"
    }
   ],
   "source": [
    "dir(str)"
   ]
  },
  {
   "cell_type": "markdown",
   "metadata": {},
   "source": [
    "To see the explanation for a method of this class,  you can use `help(str.method)`. For example:"
   ]
  },
  {
   "cell_type": "code",
   "execution_count": 34,
   "metadata": {},
   "outputs": [
    {
     "name": "stdout",
     "output_type": "stream",
     "text": [
      "Help on method_descriptor:\n",
      "\n",
      "upper(self, /)\n",
      "    Return a copy of the string converted to uppercase.\n",
      "\n"
     ]
    }
   ],
   "source": [
    "help(str.upper)"
   ]
  },
  {
   "cell_type": "markdown",
   "metadata": {},
   "source": [
    "#### 4a. Counting vowels\n",
    "Count how many of each vowel (a,e,i,o,u) there are in the text string in the next cell. Print the count for each vowel with a single formatted string. Remember that vowels can be both lower and uppercase."
   ]
  },
  {
   "cell_type": "code",
   "execution_count": 12,
   "metadata": {},
   "outputs": [
    {
     "name": "stdout",
     "output_type": "stream",
     "text": [
      "The number of a's in the text are 98 \n",
      "The number of e's in the text are 132 \n",
      "The number of i's in the text are 76\n",
      "The number of o's in the text are 94\n",
      "The number of u's in the text are 53\n"
     ]
    }
   ],
   "source": [
    "text = \"\"\"But I must explain to you how all this mistaken idea of denouncing pleasure and praising pain was born \n",
    "and I will give you a complete account of the system, and expound the actual teachings of the great explorer of the \n",
    "truth, the master-builder of human happiness. No one rejects, dislikes, or avoids pleasure itself, because it is \n",
    "pleasure, but because those who do not know how to pursue pleasure rationally encounter consequences that are \n",
    "extremely painful. Nor again is there anyone who loves or pursues or desires to obtain pain of itself, because it is \n",
    "pain, but because occasionally circumstances occur in which toil and pain can procure him some great pleasure. \n",
    "To take a trivial example, which of us ever undertakes laborious physical exercise, except to obtain some advantage \n",
    "from it? But who has any right to find fault with a man who chooses to enjoy a pleasure that has no annoying \n",
    "consequences, or one who avoids a pain that produces no resultant pleasure? On the other hand, we denounce with \n",
    "righteous indignation and dislike men who are so beguiled and demoralized by the charms of pleasure of the moment, \n",
    "so blinded by desire, that they cannot foresee the pain and trouble that are bound to ensue; and equal blame belongs \n",
    "to those who fail in their duty through weakness of will, which is the same as saying through shrinking from toil \n",
    "and pain.\"\"\"\n",
    "a_count = text.count(\"a\") + text.count(\"A\")\n",
    "print(f\"The number of a's in the text are {a_count} \")\n",
    "e_count = text.count(\"e\") + text.count(\"E\")\n",
    "print(f\"The number of e's in the text are {e_count} \")\n",
    "i_count = text.count(\"i\") + text.count(\"I\")\n",
    "print(f\"The number of i's in the text are {i_count}\")\n",
    "o_count = text.count(\"o\") + text.count(\"O\")\n",
    "print(f\"The number of o's in the text are {o_count}\")\n",
    "u_count = text.count(\"u\") + text.count(\"U\")\n",
    "print(f\"The number of u's in the text are {u_count}\")\n",
    "# your code here"
   ]
  },
  {
   "cell_type": "markdown",
   "metadata": {},
   "source": [
    "#### 4b. Printing the lexicon\n",
    "Have a good look at the internal representation of the string below. Use a combination of string methods (you will need at least 3 different ones and some will have to be used multiple times) in the correct order to remove punctuation and redundant whitespaces, and print each word in lowercase characters on a new line. The result should look like:\n",
    "\n",
    "`the  \n",
    "quick  \n",
    "brown  \n",
    "fox  \n",
    "jumps  \n",
    "etc.`"
   ]
  },
  {
   "cell_type": "code",
   "execution_count": 16,
   "metadata": {},
   "outputs": [
    {
     "name": "stdout",
     "output_type": "stream",
     "text": [
      "           The quick, brown fox jumps over a lazy dog.\tDJs flock by when MTV ax quiz prog. \n",
      "Junk MTV quiz graced by fox whelps.\tBawds jog, flick quartz, vex nymphs. \n",
      "Waltz, bad nymph, for quick jigs vex!\tFox nymphs grab quick-jived waltz. \n",
      "Brick quiz whangs jumpy veldt fox.       \n",
      "\n",
      "'           The quick, brown fox jumps over a lazy dog.\\tDJs flock by when MTV ax quiz prog. \\nJunk MTV quiz graced by fox whelps.\\tBawds jog, flick quartz, vex nymphs. \\nWaltz, bad nymph, for quick jigs vex!\\tFox nymphs grab quick-jived waltz. \\nBrick quiz whangs jumpy veldt fox.       '\n"
     ]
    }
   ],
   "source": [
    "text = \"\"\"           The quick, brown fox jumps over a lazy dog.\\tDJs flock by when MTV ax quiz prog. \n",
    "Junk MTV quiz graced by fox whelps.\\tBawds jog, flick quartz, vex nymphs. \n",
    "Waltz, bad nymph, for quick jigs vex!\\tFox nymphs grab quick-jived waltz. \n",
    "Brick quiz whangs jumpy veldt fox.       \"\"\"\n",
    "\n",
    "print(text)\n",
    "print()\n",
    "print(repr(text))"
   ]
  },
  {
   "cell_type": "code",
   "execution_count": 17,
   "metadata": {},
   "outputs": [
    {
     "name": "stdout",
     "output_type": "stream",
     "text": [
      "the\n",
      "quick\n",
      "brown\n",
      "fox\n",
      "jumps\n",
      "over\n",
      "a\n",
      "lazy\n",
      "dog.\n",
      "djs\n",
      "flock\n",
      "by\n",
      "when\n",
      "mtv\n",
      "ax\n",
      "quiz\n",
      "prog.\n",
      "junk\n",
      "mtv\n",
      "quiz\n",
      "graced\n",
      "by\n",
      "fox\n",
      "whelps.\n",
      "bawds\n",
      "jog\n",
      "flick\n",
      "quartz\n",
      "vex\n",
      "nymphs.\n",
      "waltz\n",
      "bad\n",
      "nymph\n",
      "for\n",
      "quick\n",
      "jigs\n",
      "vex!\n",
      "fox\n",
      "nymphs\n",
      "grab\n",
      "quick-jived\n",
      "waltz.\n",
      "brick\n",
      "quiz\n",
      "whangs\n",
      "jumpy\n",
      "veldt\n",
      "fox.\n"
     ]
    }
   ],
   "source": [
    "text = text.strip().replace(\"\\n\",\"\").replace(\"\\t\", \" \").replace(\",\",\"\").lower().replace(\" \",\"\\n\")\n",
    "\n",
    "print(text)"
   ]
  },
  {
   "cell_type": "markdown",
   "metadata": {},
   "source": [
    "#### 4c. Passwords\n",
    "\n",
    "Write a program that asks a user for a password and checks some simple requirements of a password. If necessary, print out the following warnings (use if-statements):\n",
    "\n",
    "1. Your password should contain at least 6 characters.\n",
    "2. Your password should contain no more than 12 characters.\n",
    "3. Your password only contains alphabetic characters! Please also use digits and/or special characters.\n",
    "4. Your password only contains digits! Please also use alphabetic and/or special characters.\n",
    "5. Your password should contain at least one special character.\n",
    "6. Your password contains only lowercase letters! Please also use uppercase letters.\n",
    "7. Your password contains only uppercase letters! Please also use lowercase letters."
   ]
  },
  {
   "cell_type": "code",
   "execution_count": 20,
   "metadata": {},
   "outputs": [
    {
     "name": "stdout",
     "output_type": "stream",
     "text": [
      "Your password contains only lowercase letters! Please also use uppercase letters.\n"
     ]
    }
   ],
   "source": [
    "# your code here\n",
    "password = \"p@ssword\"\n",
    "if len(password)<6:\n",
    "    print(\"Your password should contain at least 6 characters.\")\n",
    "if len(password)>12:\n",
    "    print(\"Your password should contain no more than 12 characters.\")\n",
    "if password.isalpha():\n",
    "    print(\"Your password only contains alphabetic characters! Please also use digits and/or special characters.\")\n",
    "if password.isdigit():\n",
    "    print(\"Your password only contains digits! Please also use alphabetic and/or special characters.\")\n",
    "if not (any(not chars.isalnum() for chars in password)):\n",
    "    print(\"Your password should contain at least one special character.\")\n",
    "if password.islower():\n",
    "    print(\"Your password contains only lowercase letters! Please also use uppercase letters.\")\n",
    "if password.isupper():\n",
    "    print(\"Your password contains only uppercase letters! Please also use lowercase letters.\")"
   ]
  },
  {
   "cell_type": "markdown",
   "metadata": {},
   "source": [
    "## Exercise 5: Boolean Logic and Conditions"
   ]
  },
  {
   "cell_type": "markdown",
   "metadata": {},
   "source": [
    "#### 5a. Speeding\n",
    "\n",
    "Write code to solve the following scenario:\n",
    "\n",
    "You are driving a little too fast, and a police officer stops you. Write code to compute and print the result, encoded as a string: 'no ticket', 'small ticket', 'big ticket'. If speed is 60 or less, the result is 'no ticket'. If speed is between 61 and 80 inclusive, the result is 'small ticket'. If speed is 81 or more, the result is 'big ticket'. Unless it is your birthday -- on that day, your speed can be 5 higher in all cases.\n"
   ]
  },
  {
   "cell_type": "code",
   "execution_count": 40,
   "metadata": {},
   "outputs": [
    {
     "name": "stdout",
     "output_type": "stream",
     "text": [
      "Enter speed 63\n",
      "Enter birthday True\n",
      "no ticket\n"
     ]
    }
   ],
   "source": [
    "# your code here\n",
    "speed = int(input(\"Enter speed \"))\n",
    "birthday = bool(input(\"Enter birthday \"))\n",
    "if birthday == True:\n",
    "    if speed<65:\n",
    "        print(\"no ticket\")\n",
    "    elif 66<=speed<=85:\n",
    "        print(\"small ticket\")\n",
    "    else:\n",
    "        print(\"big ticket\")\n",
    "else:\n",
    "    if speed<60:\n",
    "        print(\"no ticket\")\n",
    "    elif 61<=speed<=80:\n",
    "        print(\"small ticket\")\n",
    "    else:\n",
    "        print(\"big ticket\")"
   ]
  },
  {
   "cell_type": "markdown",
   "metadata": {},
   "source": [
    "#### 5b. Alarm clock\n",
    "\n",
    "Write code to set you alarm clock! Given the day of the week and information about whether you are currently on vacation or not, your code should print the time you want to be woken up following these constraints: \n",
    "\n",
    "Weekdays, the alarm should be \"7:00\" and on the weekend it should be \"10:00\". Unless we are on vacation -- then on weekdays it should be \"10:00\" and weekends it should be \"off\".\n",
    "\n",
    "\n",
    "Encode the weeks days as ints in the following way: 0=Sun, 1=Mon, 2=Tue, ...6=Sat. Encode the vacation infromation as boolean. Your code should assign the correct time to a variable as a string (following this format: \"7:00\") and print it.\n",
    "\n",
    "Note: Encoding the days as an integer helps you with defining conditions. You can check whether the week day is in a certain interval (instead of writing code for every single day). "
   ]
  },
  {
   "cell_type": "code",
   "execution_count": 43,
   "metadata": {},
   "outputs": [
    {
     "name": "stdout",
     "output_type": "stream",
     "text": [
      "Is vacation on? True\n",
      "Enter the day, 0=Sun, 1=Mon, 2=Tue...0\n",
      "alarm is off\n"
     ]
    }
   ],
   "source": [
    "# your code here\n",
    "vacation = bool(input(\"Is vacation on? \")) #Enter True or False\n",
    "day = int(input(\"Enter the day, 0=Sun, 1=Mon, 2=Tue...\")) #enter numbers between 0-6\n",
    "if vacation == True:\n",
    "    if 1<=day<=5:\n",
    "        alarm=\"on\"\n",
    "        alarm_time=\"10:00\"\n",
    "        print(alarm_time)\n",
    "    else:\n",
    "        alarm=\"off\"\n",
    "        print(f\"alarm is {alarm}\")\n",
    "else:\n",
    "    if 1<=day<=5:\n",
    "        alarm=\"on\"\n",
    "        alarm_time=\"7:00\"\n",
    "        print(f\"alarm is {alarm} for {alarm_time}\")\n",
    "    else:\n",
    "        alarm=\"on\"\n",
    "        alarm_time=\"10:00\"\n",
    "        print(f\"alarm is {alarm} for {alarm_time}\")"
   ]
  },
  {
   "cell_type": "markdown",
   "metadata": {},
   "source": [
    "#### 5c. Parcel delivery\n",
    "The required postage for an  international parcel delivery service is calculated based on item weight and country of destination:\n",
    "\n",
    "\n",
    "| Tariff zone | 0 - 2 kg | 2 - 5 kg | 5 - 10 kg | 10 - 20 kg | 20 - 30 kg |\n",
    "|-------------|----------|----------|-----------|------------|------------|\n",
    "|EUR 1 | € 13.00 | € 19.50 | € 25.00 | € 34.00 | € 45.00 | \n",
    "|EUR 2 | € 18.50 | € 25.00 | € 31.00 | € 40.00 | € 55.00 | \n",
    "|World | € 24.30 | € 34.30 | € 58.30 | € 105.30 | - | \n",
    "\n",
    "Ask a user for the `weight` and `zone`. Use (nested) `if`-statements to find the required postage based on these variables. Assign the result to a variable `postage` and print the result using a full sentence:\n",
    "\n",
    "`The price of sending a [...] kg parcel to the [...] zone is € [...].`"
   ]
  },
  {
   "cell_type": "code",
   "execution_count": 55,
   "metadata": {},
   "outputs": [
    {
     "name": "stdout",
     "output_type": "stream",
     "text": [
      "enter the weight of the parcel 5\n",
      "enter the zone of the destination EUR 1\n",
      "The price of sending a 5 kg parcel to the EUR 1 zone is 25 Euros\n"
     ]
    }
   ],
   "source": [
    "# your code here\n",
    "weight = int(input(\"enter the weight of the parcel \"))\n",
    "zone = input(\"enter the zone of the destination \")\n",
    "if zone == \"EUR 1\":\n",
    "    if 0<=weight<2:\n",
    "        print(f\"The price of sending a {weight} kg parcel to the {zone} zone is 13 Euros \")\n",
    "    elif 2<=weight<5:\n",
    "        print(f\"The price of sending a {weight} kg parcel to the {zone} zone is 19.50 Euros\")\n",
    "    elif 5<=weight<10:\n",
    "         print(f\"The price of sending a {weight} kg parcel to the {zone} zone is 25 Euros\")\n",
    "    elif 10<=weight<20:\n",
    "         print(f\"The price of sending a {weight} kg parcel to the {zone} zone is 34 Euros\")\n",
    "    else:\n",
    "        print(f\"The price of sending a {weight} kg parcel to the {zone} zone is 45 Euros\")\n",
    "\n",
    "elif zone == \"EUR 2\":\n",
    "    \n",
    "    if 0<=weight<2:\n",
    "        print(f\"The price of sending a {weight} kg parcel to the {zone} zone is 18.50 Euros \")\n",
    "    elif 2<=weight<5:\n",
    "        print(f\"The price of sending a {weight} kg parcel to the {zone} zone is 25 Euros\")\n",
    "    elif 5<=weight<10:\n",
    "         print(f\"The price of sending a {weight} kg parcel to the {zone} zone is 31 Euros\")\n",
    "    elif 10<=weight<20:\n",
    "         print(f\"The price of sending a {weight} kg parcel to the {zone} zone is 40 Euros\")\n",
    "    else:\n",
    "        print(f\"The price of sending a {weight} kg parcel to the {zone} zone is 55 Euros\")\n",
    "else:\n",
    "    if 0<=weight<2:\n",
    "        print(f\"The price of sending a {weight} kg parcel to the {zone} zone is 24.30 Euros \")\n",
    "    elif 2<=weight<5:\n",
    "        print(f\"The price of sending a {weight} kg parcel to the {zone} zone is 34.30 Euros\")\n",
    "    elif 5<=weight<10:\n",
    "         print(f\"The price of sending a {weight} kg parcel to the {zone} zone is 58.30 Euros\")\n",
    "    elif 10<=weight<20:\n",
    "         print(f\"The price of sending a {weight} kg parcel to the {zone} zone is 105.30 Euros\")\n",
    "    else:\n",
    "        print(f\"The price of sending a {weight} kg parcel to the {zone} zone is - \")"
   ]
  },
  {
   "cell_type": "code",
   "execution_count": null,
   "metadata": {},
   "outputs": [],
   "source": []
  }
 ],
 "metadata": {
  "anaconda-cloud": {},
  "kernelspec": {
   "display_name": "Python 3 (ipykernel)",
   "language": "python",
   "name": "python3"
  },
  "language_info": {
   "codemirror_mode": {
    "name": "ipython",
    "version": 3
   },
   "file_extension": ".py",
   "mimetype": "text/x-python",
   "name": "python",
   "nbconvert_exporter": "python",
   "pygments_lexer": "ipython3",
   "version": "3.9.12"
  }
 },
 "nbformat": 4,
 "nbformat_minor": 4
}
